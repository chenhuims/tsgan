{
 "nbformat": 4,
 "nbformat_minor": 2,
 "metadata": {
  "language_info": {
   "name": "python",
   "codemirror_mode": {
    "name": "ipython",
    "version": 3
   },
   "version": "3.5.6-final"
  },
  "orig_nbformat": 2,
  "file_extension": ".py",
  "mimetype": "text/x-python",
  "name": "python",
  "npconvert_exporter": "python",
  "pygments_lexer": "ipython3",
  "version": 3,
  "kernelspec": {
   "name": "python35264bitdoppelgangerconda0d0060c0c6d34d1399cb214c1e9d6159",
   "display_name": "Python 3.5.2 64-bit ('DoppelGANger': conda)"
  }
 },
 "cells": [
  {
   "cell_type": "markdown",
   "metadata": {},
   "source": [
    "# DoppelGANger\n",
    "\n",
    "## Method Overview\n",
    "\n",
    "### Assumptions\n",
    "\n",
    "Assume a dataset can be modeled as $\\mathcal{D} = \\{ O^1 , O^2, ..., O^n\\}$ where $O^i$ is an object representing an atomic, high-dimensional data element, i.e., the combination of a single time series with its associated metadata. More precisely, each object $O^i = (A^i, R^i)$ contains $m$ *attributes* $A^i = [A_1^i, A_2^i, ..., A_m^i]$. For example, attribute $A_j^i$ could represent user $i$'s physical location. Note that this model can support datasets in which multiple objects have the same set of attributes. \n",
    "\n",
    "The second component of each object is a time series of *records* $R^i = [R_1^i, R_2^i, ..., R_{T^i}^i]$. For example, in retail, the time series may contain the numbers of products that user $i$ purchases on a given day. Different objects may contain different numbers of records (i.e., time series of different lengths). The number of records in object $O^i$ is given by $T^i$. Each record $R_j^i = (t_j^i, f_j^i)$ contains a *timestamp* $t_j^i$ and $K$ features $f_j^i = [f_{j, 1}^i, f_{j, 2}^i, ..., f_{j, 1K^i}]$ (e.g., the number of each product among all $K$ products that the user purchases). \n"
   ],
   "execution_count": null,
   "outputs": []
  },
  {
   "cell_type": "code",
   "execution_count": 1,
   "metadata": {},
   "outputs": [],
   "source": [
    "import sys\n",
    "import pickle\n",
    "import numpy as np\n",
    "import pandas as pd\n",
    "\n",
    ""
   ]
  },
  {
   "cell_type": "code",
   "execution_count": 2,
   "metadata": {},
   "outputs": [
    {
     "output_type": "execute_result",
     "data": {
      "text/plain": "[<output.Output at 0x7f044e78eda0>, <output.Output at 0x7f044e797048>]"
     },
     "metadata": {},
     "execution_count": 2
    }
   ],
   "source": [
    "sys.path.append(\"./gan\")\n",
    "\n",
    "\n",
    "file_path = os.path.join(\"..\", \"data\", \"FCC_MBA\", \"data_feature_output.pkl\")\n",
    "\n",
    "with open(os.path.join(file_path), \"rb\") as f:\n",
    "    data_feature_outputs = pickle.load(f)\n",
    "\n",
    "data_feature_outputs"
   ]
  },
  {
   "cell_type": "code",
   "execution_count": 3,
   "metadata": {},
   "outputs": [
    {
     "output_type": "execute_result",
     "data": {
      "text/plain": "{'dim': 1,\n 'is_gen_flag': False,\n 'normalization': <Normalization.ZERO_ONE: 'ZERO_ONE'>,\n 'type_': <OutputType.CONTINUOUS: 'CONTINUOUS'>}"
     },
     "metadata": {},
     "execution_count": 3
    }
   ],
   "source": [
    "data_feature_outputs[0].__dict__"
   ]
  },
  {
   "cell_type": "code",
   "execution_count": 4,
   "metadata": {},
   "outputs": [
    {
     "output_type": "execute_result",
     "data": {
      "text/plain": "{'dim': 1,\n 'is_gen_flag': False,\n 'normalization': <Normalization.ZERO_ONE: 'ZERO_ONE'>,\n 'type_': <OutputType.CONTINUOUS: 'CONTINUOUS'>}"
     },
     "metadata": {},
     "execution_count": 4
    }
   ],
   "source": [
    "data_feature_outputs[1].__dict__"
   ]
  },
  {
   "cell_type": "code",
   "execution_count": 5,
   "metadata": {},
   "outputs": [
    {
     "output_type": "execute_result",
     "data": {
      "text/plain": "[<output.Output at 0x7f044e797470>,\n <output.Output at 0x7f044e797358>,\n <output.Output at 0x7f044e7973c8>]"
     },
     "metadata": {},
     "execution_count": 5
    }
   ],
   "source": [
    "file_path = os.path.join(\"..\", \"data\", \"FCC_MBA\", \"data_attribute_output.pkl\")\n",
    "\n",
    "with open(os.path.join(file_path), \"rb\") as f:\n",
    "    data_attribute_outputs = pickle.load(f)\n",
    "\n",
    "data_attribute_outputs"
   ]
  },
  {
   "cell_type": "code",
   "execution_count": 6,
   "metadata": {},
   "outputs": [
    {
     "output_type": "execute_result",
     "data": {
      "text/plain": "{'dim': 15,\n 'is_gen_flag': False,\n 'normalization': None,\n 'type_': <OutputType.DISCRETE: 'DISCRETE'>}"
     },
     "metadata": {},
     "execution_count": 6
    }
   ],
   "source": [
    "data_attribute_outputs[0].__dict__"
   ]
  },
  {
   "cell_type": "code",
   "execution_count": 7,
   "metadata": {},
   "outputs": [
    {
     "output_type": "execute_result",
     "data": {
      "text/plain": "{'dim': 5,\n 'is_gen_flag': False,\n 'normalization': None,\n 'type_': <OutputType.DISCRETE: 'DISCRETE'>}"
     },
     "metadata": {},
     "execution_count": 7
    }
   ],
   "source": [
    "data_attribute_outputs[1].__dict__"
   ]
  },
  {
   "cell_type": "code",
   "execution_count": 8,
   "metadata": {},
   "outputs": [
    {
     "output_type": "execute_result",
     "data": {
      "text/plain": "{'dim': 53,\n 'is_gen_flag': False,\n 'normalization': None,\n 'type_': <OutputType.DISCRETE: 'DISCRETE'>}"
     },
     "metadata": {},
     "execution_count": 8
    }
   ],
   "source": [
    "data_attribute_outputs[2].__dict__"
   ]
  },
  {
   "cell_type": "code",
   "execution_count": 9,
   "metadata": {},
   "outputs": [],
   "source": [
    "data_npz = np.load(os.path.join(\"..\", \"data\", \"FCC_MBA\", \"data_train.npz\"))"
   ]
  },
  {
   "cell_type": "code",
   "execution_count": 10,
   "metadata": {},
   "outputs": [
    {
     "output_type": "execute_result",
     "data": {
      "text/plain": "array([[1., 1., 1., ..., 1., 1., 1.],\n       [1., 1., 1., ..., 1., 1., 1.],\n       [1., 1., 1., ..., 1., 1., 1.],\n       ...,\n       [1., 1., 1., ..., 1., 1., 1.],\n       [1., 1., 1., ..., 1., 1., 1.],\n       [1., 1., 1., ..., 1., 1., 1.]])"
     },
     "metadata": {},
     "execution_count": 10
    }
   ],
   "source": [
    "data_npz[\"data_gen_flag\"]"
   ]
  },
  {
   "cell_type": "code",
   "execution_count": 11,
   "metadata": {},
   "outputs": [
    {
     "output_type": "execute_result",
     "data": {
      "text/plain": "(600, 56)"
     },
     "metadata": {},
     "execution_count": 11
    }
   ],
   "source": [
    "data_npz[\"data_gen_flag\"].shape"
   ]
  },
  {
   "cell_type": "code",
   "execution_count": 12,
   "metadata": {},
   "outputs": [
    {
     "output_type": "execute_result",
     "data": {
      "text/plain": "array([[0., 0., 1., ..., 0., 0., 0.],\n       [0., 0., 1., ..., 0., 0., 0.],\n       [0., 0., 1., ..., 0., 0., 0.],\n       ...,\n       [0., 0., 0., ..., 0., 0., 0.],\n       [0., 0., 0., ..., 0., 0., 0.],\n       [0., 0., 0., ..., 0., 0., 0.]], dtype=float32)"
     },
     "metadata": {},
     "execution_count": 12
    }
   ],
   "source": [
    "data_npz[\"data_attribute\"]"
   ]
  },
  {
   "cell_type": "code",
   "execution_count": 13,
   "metadata": {},
   "outputs": [
    {
     "output_type": "execute_result",
     "data": {
      "text/plain": "(600, 73)"
     },
     "metadata": {},
     "execution_count": 13
    }
   ],
   "source": [
    "data_npz[\"data_attribute\"].shape"
   ]
  },
  {
   "cell_type": "code",
   "execution_count": 14,
   "metadata": {},
   "outputs": [
    {
     "output_type": "execute_result",
     "data": {
      "text/plain": "array([[[0.00190305, 0.        ],\n        [0.00542065, 0.        ],\n        [0.00351279, 0.        ],\n        ...,\n        [0.00570855, 0.        ],\n        [0.0109244 , 0.        ],\n        [0.01260134, 0.        ]],\n\n       [[0.00451891, 0.        ],\n        [0.01619207, 0.        ],\n        [0.00240422, 0.        ],\n        ...,\n        [0.00979518, 0.        ],\n        [0.00285562, 0.        ],\n        [0.00412524, 0.        ]],\n\n       [[0.00871978, 0.        ],\n        [0.06614204, 0.        ],\n        [0.00705297, 0.        ],\n        ...,\n        [0.01537887, 0.        ],\n        [0.0196006 , 0.        ],\n        [0.02046846, 0.        ]],\n\n       ...,\n\n       [[0.05727319, 0.        ],\n        [0.04847331, 0.        ],\n        [0.02320519, 0.        ],\n        ...,\n        [0.06335463, 0.        ],\n        [0.0498604 , 0.        ],\n        [0.04445172, 0.        ]],\n\n       [[0.10847276, 0.        ],\n        [0.0983321 , 0.        ],\n        [0.03953493, 0.        ],\n        ...,\n        [0.05072008, 0.        ],\n        [0.0216756 , 0.        ],\n        [0.02107071, 0.        ]],\n\n       [[0.12601896, 0.        ],\n        [0.1551092 , 0.        ],\n        [0.1508659 , 0.        ],\n        ...,\n        [0.15091276, 0.        ],\n        [0.14953195, 0.        ],\n        [0.1553389 , 0.        ]]], dtype=float32)"
     },
     "metadata": {},
     "execution_count": 14
    }
   ],
   "source": [
    "data_npz[\"data_feature\"]"
   ]
  },
  {
   "cell_type": "code",
   "execution_count": 15,
   "metadata": {},
   "outputs": [
    {
     "output_type": "execute_result",
     "data": {
      "text/plain": "(600, 56, 2)"
     },
     "metadata": {},
     "execution_count": 15
    }
   ],
   "source": [
    "data_npz[\"data_feature\"].shape"
   ]
  },
  {
   "cell_type": "markdown",
   "metadata": {},
   "source": [
    "For the Orange Juice data, the features include sales, price, as well as deal and deal information; while the attributes contain store ID and brand ID. "
   ],
   "execution_count": null,
   "outputs": []
  }
 ]
}